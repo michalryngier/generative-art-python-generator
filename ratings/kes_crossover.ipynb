{
 "cells": [
  {
   "cell_type": "markdown",
   "id": "ea723c963299386f",
   "metadata": {
    "collapsed": false
   },
   "source": [
    "# Crossover"
   ]
  },
  {
   "cell_type": "markdown",
   "id": "c2e0cdcc1803b17e",
   "metadata": {
    "collapsed": false
   },
   "source": [
    "## Krzyżowanie:\n",
    "- Od 0.5 do 1.0 z krokiem co 0.05\n",
    "- Dla każdej wartości p. krzyżowania wykonano 10 prób dla każdego z obrazów wejściowych (40 prób łącznie dla każdego z prawdopodobieństw)\n",
    "- Zapis wyników odbywał się co 2 iteracje algorytmu (z zerową włącznie). Łączna liczba iteracji wynosiła 200."
   ]
  },
  {
   "cell_type": "markdown",
   "id": "265d16600abc7fd3",
   "metadata": {
    "collapsed": false
   },
   "source": [
    "### Dla obrazu, dla zadanego prawdopodobieństwa krzyżowania narysuj wykres średniej liczby osobników o wartości funkcji oceny = 1.0\n"
   ]
  },
  {
   "cell_type": "code",
   "execution_count": 3,
   "id": "c12fbac6d9f2bb15",
   "metadata": {
    "collapsed": false,
    "ExecuteTime": {
     "end_time": "2024-06-02T09:54:41.341175Z",
     "start_time": "2024-06-02T09:54:41.283324Z"
    }
   },
   "outputs": [
    {
     "name": "stderr",
     "output_type": "stream",
     "text": [
      "<>:42: SyntaxWarning: invalid escape sequence '\\m'\n",
      "<>:42: SyntaxWarning: invalid escape sequence '\\m'\n",
      "/var/folders/b4/2_zbw1nd54s0cdjd12nftxnm0000gn/T/ipykernel_51236/3212321775.py:42: SyntaxWarning: invalid escape sequence '\\m'\n",
      "  label=\": $P_\\mathrm{c}$\" + f\" = {key[0]}\", marker='o', color=color, linestyle='', markersize=3)\n"
     ]
    },
    {
     "ename": "FileNotFoundError",
     "evalue": "[Errno 2] No such file or directory: 'kes_crossover_postprocessed.csv'",
     "output_type": "error",
     "traceback": [
      "\u001B[0;31m---------------------------------------------------------------------------\u001B[0m",
      "\u001B[0;31mFileNotFoundError\u001B[0m                         Traceback (most recent call last)",
      "Cell \u001B[0;32mIn[3], line 6\u001B[0m\n\u001B[1;32m      3\u001B[0m \u001B[38;5;28;01mimport\u001B[39;00m \u001B[38;5;21;01mnumpy\u001B[39;00m \u001B[38;5;28;01mas\u001B[39;00m \u001B[38;5;21;01mnp\u001B[39;00m\n\u001B[1;32m      5\u001B[0m \u001B[38;5;66;03m# Odczyt danych\u001B[39;00m\n\u001B[0;32m----> 6\u001B[0m data \u001B[38;5;241m=\u001B[39m \u001B[43mpd\u001B[49m\u001B[38;5;241;43m.\u001B[39;49m\u001B[43mread_csv\u001B[49m\u001B[43m(\u001B[49m\u001B[38;5;124;43m'\u001B[39;49m\u001B[38;5;124;43mkes_crossover_postprocessed.csv\u001B[39;49m\u001B[38;5;124;43m'\u001B[39;49m\u001B[43m,\u001B[49m\u001B[43m \u001B[49m\u001B[43mdelimiter\u001B[49m\u001B[38;5;241;43m=\u001B[39;49m\u001B[38;5;124;43m'\u001B[39;49m\u001B[38;5;124;43m,\u001B[39;49m\u001B[38;5;124;43m'\u001B[39;49m\u001B[43m)\u001B[49m\n\u001B[1;32m      8\u001B[0m images \u001B[38;5;241m=\u001B[39m [\u001B[38;5;124m'\u001B[39m\u001B[38;5;124mtriangle\u001B[39m\u001B[38;5;124m'\u001B[39m, \u001B[38;5;124m'\u001B[39m\u001B[38;5;124mcircle\u001B[39m\u001B[38;5;124m'\u001B[39m, \u001B[38;5;124m'\u001B[39m\u001B[38;5;124msquare\u001B[39m\u001B[38;5;124m'\u001B[39m]\n\u001B[1;32m      9\u001B[0m crossoverProbabilities \u001B[38;5;241m=\u001B[39m [\u001B[38;5;241m1.0\u001B[39m, \u001B[38;5;241m0.95\u001B[39m, \u001B[38;5;241m0.9\u001B[39m, \u001B[38;5;241m0.85\u001B[39m, \u001B[38;5;241m0.8\u001B[39m, \u001B[38;5;241m0.75\u001B[39m, \u001B[38;5;241m0.7\u001B[39m, \u001B[38;5;241m0.65\u001B[39m, \u001B[38;5;241m0.6\u001B[39m, \u001B[38;5;241m0.55\u001B[39m, \u001B[38;5;241m0.5\u001B[39m]\n",
      "File \u001B[0;32m~/studia/praca-magisterska/art/Solution/lib/python3.12/site-packages/pandas/io/parsers/readers.py:948\u001B[0m, in \u001B[0;36mread_csv\u001B[0;34m(filepath_or_buffer, sep, delimiter, header, names, index_col, usecols, dtype, engine, converters, true_values, false_values, skipinitialspace, skiprows, skipfooter, nrows, na_values, keep_default_na, na_filter, verbose, skip_blank_lines, parse_dates, infer_datetime_format, keep_date_col, date_parser, date_format, dayfirst, cache_dates, iterator, chunksize, compression, thousands, decimal, lineterminator, quotechar, quoting, doublequote, escapechar, comment, encoding, encoding_errors, dialect, on_bad_lines, delim_whitespace, low_memory, memory_map, float_precision, storage_options, dtype_backend)\u001B[0m\n\u001B[1;32m    935\u001B[0m kwds_defaults \u001B[38;5;241m=\u001B[39m _refine_defaults_read(\n\u001B[1;32m    936\u001B[0m     dialect,\n\u001B[1;32m    937\u001B[0m     delimiter,\n\u001B[0;32m   (...)\u001B[0m\n\u001B[1;32m    944\u001B[0m     dtype_backend\u001B[38;5;241m=\u001B[39mdtype_backend,\n\u001B[1;32m    945\u001B[0m )\n\u001B[1;32m    946\u001B[0m kwds\u001B[38;5;241m.\u001B[39mupdate(kwds_defaults)\n\u001B[0;32m--> 948\u001B[0m \u001B[38;5;28;01mreturn\u001B[39;00m \u001B[43m_read\u001B[49m\u001B[43m(\u001B[49m\u001B[43mfilepath_or_buffer\u001B[49m\u001B[43m,\u001B[49m\u001B[43m \u001B[49m\u001B[43mkwds\u001B[49m\u001B[43m)\u001B[49m\n",
      "File \u001B[0;32m~/studia/praca-magisterska/art/Solution/lib/python3.12/site-packages/pandas/io/parsers/readers.py:611\u001B[0m, in \u001B[0;36m_read\u001B[0;34m(filepath_or_buffer, kwds)\u001B[0m\n\u001B[1;32m    608\u001B[0m _validate_names(kwds\u001B[38;5;241m.\u001B[39mget(\u001B[38;5;124m\"\u001B[39m\u001B[38;5;124mnames\u001B[39m\u001B[38;5;124m\"\u001B[39m, \u001B[38;5;28;01mNone\u001B[39;00m))\n\u001B[1;32m    610\u001B[0m \u001B[38;5;66;03m# Create the parser.\u001B[39;00m\n\u001B[0;32m--> 611\u001B[0m parser \u001B[38;5;241m=\u001B[39m \u001B[43mTextFileReader\u001B[49m\u001B[43m(\u001B[49m\u001B[43mfilepath_or_buffer\u001B[49m\u001B[43m,\u001B[49m\u001B[43m \u001B[49m\u001B[38;5;241;43m*\u001B[39;49m\u001B[38;5;241;43m*\u001B[39;49m\u001B[43mkwds\u001B[49m\u001B[43m)\u001B[49m\n\u001B[1;32m    613\u001B[0m \u001B[38;5;28;01mif\u001B[39;00m chunksize \u001B[38;5;129;01mor\u001B[39;00m iterator:\n\u001B[1;32m    614\u001B[0m     \u001B[38;5;28;01mreturn\u001B[39;00m parser\n",
      "File \u001B[0;32m~/studia/praca-magisterska/art/Solution/lib/python3.12/site-packages/pandas/io/parsers/readers.py:1448\u001B[0m, in \u001B[0;36mTextFileReader.__init__\u001B[0;34m(self, f, engine, **kwds)\u001B[0m\n\u001B[1;32m   1445\u001B[0m     \u001B[38;5;28mself\u001B[39m\u001B[38;5;241m.\u001B[39moptions[\u001B[38;5;124m\"\u001B[39m\u001B[38;5;124mhas_index_names\u001B[39m\u001B[38;5;124m\"\u001B[39m] \u001B[38;5;241m=\u001B[39m kwds[\u001B[38;5;124m\"\u001B[39m\u001B[38;5;124mhas_index_names\u001B[39m\u001B[38;5;124m\"\u001B[39m]\n\u001B[1;32m   1447\u001B[0m \u001B[38;5;28mself\u001B[39m\u001B[38;5;241m.\u001B[39mhandles: IOHandles \u001B[38;5;241m|\u001B[39m \u001B[38;5;28;01mNone\u001B[39;00m \u001B[38;5;241m=\u001B[39m \u001B[38;5;28;01mNone\u001B[39;00m\n\u001B[0;32m-> 1448\u001B[0m \u001B[38;5;28mself\u001B[39m\u001B[38;5;241m.\u001B[39m_engine \u001B[38;5;241m=\u001B[39m \u001B[38;5;28;43mself\u001B[39;49m\u001B[38;5;241;43m.\u001B[39;49m\u001B[43m_make_engine\u001B[49m\u001B[43m(\u001B[49m\u001B[43mf\u001B[49m\u001B[43m,\u001B[49m\u001B[43m \u001B[49m\u001B[38;5;28;43mself\u001B[39;49m\u001B[38;5;241;43m.\u001B[39;49m\u001B[43mengine\u001B[49m\u001B[43m)\u001B[49m\n",
      "File \u001B[0;32m~/studia/praca-magisterska/art/Solution/lib/python3.12/site-packages/pandas/io/parsers/readers.py:1705\u001B[0m, in \u001B[0;36mTextFileReader._make_engine\u001B[0;34m(self, f, engine)\u001B[0m\n\u001B[1;32m   1703\u001B[0m     \u001B[38;5;28;01mif\u001B[39;00m \u001B[38;5;124m\"\u001B[39m\u001B[38;5;124mb\u001B[39m\u001B[38;5;124m\"\u001B[39m \u001B[38;5;129;01mnot\u001B[39;00m \u001B[38;5;129;01min\u001B[39;00m mode:\n\u001B[1;32m   1704\u001B[0m         mode \u001B[38;5;241m+\u001B[39m\u001B[38;5;241m=\u001B[39m \u001B[38;5;124m\"\u001B[39m\u001B[38;5;124mb\u001B[39m\u001B[38;5;124m\"\u001B[39m\n\u001B[0;32m-> 1705\u001B[0m \u001B[38;5;28mself\u001B[39m\u001B[38;5;241m.\u001B[39mhandles \u001B[38;5;241m=\u001B[39m \u001B[43mget_handle\u001B[49m\u001B[43m(\u001B[49m\n\u001B[1;32m   1706\u001B[0m \u001B[43m    \u001B[49m\u001B[43mf\u001B[49m\u001B[43m,\u001B[49m\n\u001B[1;32m   1707\u001B[0m \u001B[43m    \u001B[49m\u001B[43mmode\u001B[49m\u001B[43m,\u001B[49m\n\u001B[1;32m   1708\u001B[0m \u001B[43m    \u001B[49m\u001B[43mencoding\u001B[49m\u001B[38;5;241;43m=\u001B[39;49m\u001B[38;5;28;43mself\u001B[39;49m\u001B[38;5;241;43m.\u001B[39;49m\u001B[43moptions\u001B[49m\u001B[38;5;241;43m.\u001B[39;49m\u001B[43mget\u001B[49m\u001B[43m(\u001B[49m\u001B[38;5;124;43m\"\u001B[39;49m\u001B[38;5;124;43mencoding\u001B[39;49m\u001B[38;5;124;43m\"\u001B[39;49m\u001B[43m,\u001B[49m\u001B[43m \u001B[49m\u001B[38;5;28;43;01mNone\u001B[39;49;00m\u001B[43m)\u001B[49m\u001B[43m,\u001B[49m\n\u001B[1;32m   1709\u001B[0m \u001B[43m    \u001B[49m\u001B[43mcompression\u001B[49m\u001B[38;5;241;43m=\u001B[39;49m\u001B[38;5;28;43mself\u001B[39;49m\u001B[38;5;241;43m.\u001B[39;49m\u001B[43moptions\u001B[49m\u001B[38;5;241;43m.\u001B[39;49m\u001B[43mget\u001B[49m\u001B[43m(\u001B[49m\u001B[38;5;124;43m\"\u001B[39;49m\u001B[38;5;124;43mcompression\u001B[39;49m\u001B[38;5;124;43m\"\u001B[39;49m\u001B[43m,\u001B[49m\u001B[43m \u001B[49m\u001B[38;5;28;43;01mNone\u001B[39;49;00m\u001B[43m)\u001B[49m\u001B[43m,\u001B[49m\n\u001B[1;32m   1710\u001B[0m \u001B[43m    \u001B[49m\u001B[43mmemory_map\u001B[49m\u001B[38;5;241;43m=\u001B[39;49m\u001B[38;5;28;43mself\u001B[39;49m\u001B[38;5;241;43m.\u001B[39;49m\u001B[43moptions\u001B[49m\u001B[38;5;241;43m.\u001B[39;49m\u001B[43mget\u001B[49m\u001B[43m(\u001B[49m\u001B[38;5;124;43m\"\u001B[39;49m\u001B[38;5;124;43mmemory_map\u001B[39;49m\u001B[38;5;124;43m\"\u001B[39;49m\u001B[43m,\u001B[49m\u001B[43m \u001B[49m\u001B[38;5;28;43;01mFalse\u001B[39;49;00m\u001B[43m)\u001B[49m\u001B[43m,\u001B[49m\n\u001B[1;32m   1711\u001B[0m \u001B[43m    \u001B[49m\u001B[43mis_text\u001B[49m\u001B[38;5;241;43m=\u001B[39;49m\u001B[43mis_text\u001B[49m\u001B[43m,\u001B[49m\n\u001B[1;32m   1712\u001B[0m \u001B[43m    \u001B[49m\u001B[43merrors\u001B[49m\u001B[38;5;241;43m=\u001B[39;49m\u001B[38;5;28;43mself\u001B[39;49m\u001B[38;5;241;43m.\u001B[39;49m\u001B[43moptions\u001B[49m\u001B[38;5;241;43m.\u001B[39;49m\u001B[43mget\u001B[49m\u001B[43m(\u001B[49m\u001B[38;5;124;43m\"\u001B[39;49m\u001B[38;5;124;43mencoding_errors\u001B[39;49m\u001B[38;5;124;43m\"\u001B[39;49m\u001B[43m,\u001B[49m\u001B[43m \u001B[49m\u001B[38;5;124;43m\"\u001B[39;49m\u001B[38;5;124;43mstrict\u001B[39;49m\u001B[38;5;124;43m\"\u001B[39;49m\u001B[43m)\u001B[49m\u001B[43m,\u001B[49m\n\u001B[1;32m   1713\u001B[0m \u001B[43m    \u001B[49m\u001B[43mstorage_options\u001B[49m\u001B[38;5;241;43m=\u001B[39;49m\u001B[38;5;28;43mself\u001B[39;49m\u001B[38;5;241;43m.\u001B[39;49m\u001B[43moptions\u001B[49m\u001B[38;5;241;43m.\u001B[39;49m\u001B[43mget\u001B[49m\u001B[43m(\u001B[49m\u001B[38;5;124;43m\"\u001B[39;49m\u001B[38;5;124;43mstorage_options\u001B[39;49m\u001B[38;5;124;43m\"\u001B[39;49m\u001B[43m,\u001B[49m\u001B[43m \u001B[49m\u001B[38;5;28;43;01mNone\u001B[39;49;00m\u001B[43m)\u001B[49m\u001B[43m,\u001B[49m\n\u001B[1;32m   1714\u001B[0m \u001B[43m\u001B[49m\u001B[43m)\u001B[49m\n\u001B[1;32m   1715\u001B[0m \u001B[38;5;28;01massert\u001B[39;00m \u001B[38;5;28mself\u001B[39m\u001B[38;5;241m.\u001B[39mhandles \u001B[38;5;129;01mis\u001B[39;00m \u001B[38;5;129;01mnot\u001B[39;00m \u001B[38;5;28;01mNone\u001B[39;00m\n\u001B[1;32m   1716\u001B[0m f \u001B[38;5;241m=\u001B[39m \u001B[38;5;28mself\u001B[39m\u001B[38;5;241m.\u001B[39mhandles\u001B[38;5;241m.\u001B[39mhandle\n",
      "File \u001B[0;32m~/studia/praca-magisterska/art/Solution/lib/python3.12/site-packages/pandas/io/common.py:863\u001B[0m, in \u001B[0;36mget_handle\u001B[0;34m(path_or_buf, mode, encoding, compression, memory_map, is_text, errors, storage_options)\u001B[0m\n\u001B[1;32m    858\u001B[0m \u001B[38;5;28;01melif\u001B[39;00m \u001B[38;5;28misinstance\u001B[39m(handle, \u001B[38;5;28mstr\u001B[39m):\n\u001B[1;32m    859\u001B[0m     \u001B[38;5;66;03m# Check whether the filename is to be opened in binary mode.\u001B[39;00m\n\u001B[1;32m    860\u001B[0m     \u001B[38;5;66;03m# Binary mode does not support 'encoding' and 'newline'.\u001B[39;00m\n\u001B[1;32m    861\u001B[0m     \u001B[38;5;28;01mif\u001B[39;00m ioargs\u001B[38;5;241m.\u001B[39mencoding \u001B[38;5;129;01mand\u001B[39;00m \u001B[38;5;124m\"\u001B[39m\u001B[38;5;124mb\u001B[39m\u001B[38;5;124m\"\u001B[39m \u001B[38;5;129;01mnot\u001B[39;00m \u001B[38;5;129;01min\u001B[39;00m ioargs\u001B[38;5;241m.\u001B[39mmode:\n\u001B[1;32m    862\u001B[0m         \u001B[38;5;66;03m# Encoding\u001B[39;00m\n\u001B[0;32m--> 863\u001B[0m         handle \u001B[38;5;241m=\u001B[39m \u001B[38;5;28;43mopen\u001B[39;49m\u001B[43m(\u001B[49m\n\u001B[1;32m    864\u001B[0m \u001B[43m            \u001B[49m\u001B[43mhandle\u001B[49m\u001B[43m,\u001B[49m\n\u001B[1;32m    865\u001B[0m \u001B[43m            \u001B[49m\u001B[43mioargs\u001B[49m\u001B[38;5;241;43m.\u001B[39;49m\u001B[43mmode\u001B[49m\u001B[43m,\u001B[49m\n\u001B[1;32m    866\u001B[0m \u001B[43m            \u001B[49m\u001B[43mencoding\u001B[49m\u001B[38;5;241;43m=\u001B[39;49m\u001B[43mioargs\u001B[49m\u001B[38;5;241;43m.\u001B[39;49m\u001B[43mencoding\u001B[49m\u001B[43m,\u001B[49m\n\u001B[1;32m    867\u001B[0m \u001B[43m            \u001B[49m\u001B[43merrors\u001B[49m\u001B[38;5;241;43m=\u001B[39;49m\u001B[43merrors\u001B[49m\u001B[43m,\u001B[49m\n\u001B[1;32m    868\u001B[0m \u001B[43m            \u001B[49m\u001B[43mnewline\u001B[49m\u001B[38;5;241;43m=\u001B[39;49m\u001B[38;5;124;43m\"\u001B[39;49m\u001B[38;5;124;43m\"\u001B[39;49m\u001B[43m,\u001B[49m\n\u001B[1;32m    869\u001B[0m \u001B[43m        \u001B[49m\u001B[43m)\u001B[49m\n\u001B[1;32m    870\u001B[0m     \u001B[38;5;28;01melse\u001B[39;00m:\n\u001B[1;32m    871\u001B[0m         \u001B[38;5;66;03m# Binary mode\u001B[39;00m\n\u001B[1;32m    872\u001B[0m         handle \u001B[38;5;241m=\u001B[39m \u001B[38;5;28mopen\u001B[39m(handle, ioargs\u001B[38;5;241m.\u001B[39mmode)\n",
      "\u001B[0;31mFileNotFoundError\u001B[0m: [Errno 2] No such file or directory: 'kes_crossover_postprocessed.csv'"
     ]
    }
   ],
   "source": [
    "from matplotlib import pyplot as plt\n",
    "import pandas as pd\n",
    "import numpy as np\n",
    "\n",
    "# Odczyt danych\n",
    "data = pd.read_csv('kes_crossover_postprocessed.csv', delimiter=',')\n",
    "\n",
    "images = ['triangle', 'circle', 'square']\n",
    "crossoverProbabilities = [1.0, 0.95, 0.9, 0.85, 0.8, 0.75, 0.7, 0.65, 0.6, 0.55, 0.5]\n",
    "evaluations = [1.0]\n",
    "\n",
    "# Inicjalizacja słownika na wartości procentowe\n",
    "mean_percentage_values = {}\n",
    "\n",
    "# Inicjalizacja słownika na kolory dla każdego P_c\n",
    "pc_colors = {}\n",
    "\n",
    "# Iteracja po kombinacjach\n",
    "for crossoverProbability in crossoverProbabilities:\n",
    "    for evaluation in evaluations:\n",
    "        # Filtruj dane\n",
    "        data['percentage'] = data['count'] / 1600 * 100\n",
    "        subset = data[(data['imageName'].isin(images)) &\n",
    "                      (data['metricValue'] == crossoverProbability) &\n",
    "                      (data['evalValue'] == evaluation)]\n",
    "\n",
    "        # Oblicz średnie wartości procentowe dla każdej iteracji\n",
    "        mean_values = subset.groupby('iteration')['percentage'].mean()\n",
    "\n",
    "        # Przechowywanie średnich wartości w słowniku\n",
    "        mean_percentage_values[(crossoverProbability, evaluation)] = mean_values\n",
    "\n",
    "        # Obliczenie koloru dla każdego P_c\n",
    "        scaled_pc = crossoverProbability ** 2  # Skalowanie wartości P_c kwadratem\n",
    "        pc_colors[crossoverProbability] = plt.cm.Blues(scaled_pc)  # Użyj mapy kolorów 'Blues' ze zwiększoną wartością P_c\n",
    "\n",
    "# Rysowanie wykresu średnich wartości procentowych dla każdej kombinacji\n",
    "plt.figure(figsize=(12, 8))\n",
    "for key, mean_values in mean_percentage_values.items():\n",
    "    color = pc_colors[key[0]]  # Pobierz kolor odpowiadający P_c\n",
    "    plt.plot(mean_values.index, mean_values.values,\n",
    "             label=\": $P_\\mathrm{c}$\" + f\" = {key[0]}\", marker='o', color=color, linestyle='', markersize=3)\n",
    "    \n",
    "    # Znajdź indeks maksymalnej wartości\n",
    "    max_index = mean_values.idxmax()\n",
    "    max_value = mean_values[max_index]\n",
    "\n",
    "    # Narysuj linię pionową w indeksie maksymalnej wartości tym samym kolorem\n",
    "    plt.axvline(x=max_index, color=color, linestyle='--', linewidth=0.75)\n",
    "\n",
    "plt.xlabel('Algorithm\\'s iteration')\n",
    "plt.ylabel('% of population with Eval(C, EM) = 1.0')\n",
    "plt.legend()\n",
    "plt.grid(True)\n",
    "plt.show()"
   ]
  },
  {
   "cell_type": "markdown",
   "id": "87befd2a918c891b",
   "metadata": {
    "collapsed": false
   },
   "source": []
  },
  {
   "cell_type": "code",
   "execution_count": null,
   "outputs": [],
   "source": [],
   "metadata": {
    "collapsed": false,
    "ExecuteTime": {
     "start_time": "2024-06-02T09:54:41.338644Z"
    }
   },
   "id": "34326540819468b5"
  },
  {
   "cell_type": "code",
   "execution_count": 4,
   "outputs": [
    {
     "name": "stderr",
     "output_type": "stream",
     "text": [
      "<>:54: SyntaxWarning: invalid escape sequence '\\m'\n",
      "<>:55: SyntaxWarning: invalid escape sequence '\\m'\n",
      "<>:56: SyntaxWarning: invalid escape sequence '\\m'\n",
      "<>:54: SyntaxWarning: invalid escape sequence '\\m'\n",
      "<>:55: SyntaxWarning: invalid escape sequence '\\m'\n",
      "<>:56: SyntaxWarning: invalid escape sequence '\\m'\n",
      "/var/folders/b4/2_zbw1nd54s0cdjd12nftxnm0000gn/T/ipykernel_51236/1862447339.py:54: SyntaxWarning: invalid escape sequence '\\m'\n",
      "  plt.xlabel('$M_{\\mathrm{bl}}$')\n",
      "/var/folders/b4/2_zbw1nd54s0cdjd12nftxnm0000gn/T/ipykernel_51236/1862447339.py:55: SyntaxWarning: invalid escape sequence '\\m'\n",
      "  plt.ylabel('$M_{\\mathrm{fd}}$')\n",
      "/var/folders/b4/2_zbw1nd54s0cdjd12nftxnm0000gn/T/ipykernel_51236/1862447339.py:56: SyntaxWarning: invalid escape sequence '\\m'\n",
      "  plt.title('Decyzja w zależności od wartości $M_{\\mathrm{bl}}$ oraz $M_{\\mathrm{fd}}$')\n"
     ]
    },
    {
     "data": {
      "text/plain": "<Figure size 800x400 with 2 Axes>",
      "image/png": "[encoded data removed]"
     },
     "metadata": {},
     "output_type": "display_data"
    }
   ],
   "source": [
    "import numpy as np\n",
    "import matplotlib.pyplot as plt\n",
    "\n",
    "maxMbl = 0\n",
    "minMbl = -16\n",
    "\n",
    "maxMfd = 1.0\n",
    "minMfd = 0.0\n",
    "\n",
    "przedzialy = [\n",
    "    # [(Mfd_min, Mfd_max), (Mbl_min, Mbl_max), decyzja]\n",
    "    [(0.511, 0.521), (-8.608, maxMbl), 0.25],\n",
    "    [(0.508, 0.511), (-8.608, maxMbl), 0.0],\n",
    "    [(0.490, 0.508), (-8.608, maxMbl), 1.0],\n",
    "    [(0.521, maxMfd), (-8.608, maxMbl), 1.0],\n",
    "    [(0.490, maxMfd), (-9.565, -8.608), 0.0],\n",
    "    [(0.490, maxMfd), (-12.785, -9.565), 0.968],\n",
    "    [(0.490, maxMfd), (-15.492, -12.785), 0.833],\n",
    "    [(0.490, maxMfd), (minMbl, -15.492), 0.0],\n",
    "    [(0.458, 0.468), (-3.122, maxMbl), 0.5],\n",
    "    [(0.458, 0.468), (-4.277, -3.122), 0.0],\n",
    "    [(0.458, 0.468), (minMbl, -4.277), 1.0],\n",
    "    [(0.468, 0.490), (minMbl, maxMbl), 0.0],\n",
    "    [(minMfd, 0.458), (-1.502, maxMbl), 0.5],\n",
    "    [(minMfd, 0.458), (minMbl, -1.502), 0.023],\n",
    "]\n",
    "\n",
    "# Inicjujemy macierz decyzji jako pustą tablicę 2D\n",
    "decision_matrix = np.zeros((abs(int(minMfd - maxMfd) * 10), abs(int(minMbl - maxMbl) * 10)))\n",
    "\n",
    "# Przetwarzamy przedziały danych\n",
    "for interval in przedzialy:\n",
    "    # Pobieramy granice przedziałów Mfd i Mbl\n",
    "    Mfd_min, Mfd_max = interval[0]\n",
    "    Mbl_min, Mbl_max = interval[1]\n",
    "    decision = interval[2]\n",
    "\n",
    "    # Mapujemy granice przedziałów na indeksy macierzy decyzji\n",
    "    Mfd_start = int((Mfd_min - minMfd) * 10)\n",
    "    Mfd_end = int((Mfd_max - minMfd) * 10)\n",
    "    Mbl_start = int((Mbl_min - minMbl) * 10)\n",
    "    Mbl_end = int((Mbl_max - minMbl) * 10)\n",
    "\n",
    "    # Ustawiamy decyzję w odpowiednich miejscach macierzy\n",
    "    decision_matrix[Mfd_start:Mfd_end, Mbl_start:Mbl_end] = decision\n",
    "\n",
    "# Tworzymy hitmapę\n",
    "plt.figure(figsize=(8, 4))\n",
    "plt.yticks(np.arange(minMfd, maxMfd + 0.1, 0.1))\n",
    "plt.xticks(np.arange(minMbl, maxMbl + 1, 4))\n",
    "\n",
    "plt.imshow(decision_matrix, cmap='Blues', extent=(minMbl, maxMbl, maxMfd, minMfd), vmin=0, vmax=1)\n",
    "plt.colorbar(label='Decyzja')\n",
    "plt.xlabel('$M_{\\mathrm{bl}}$')\n",
    "plt.ylabel('$M_{\\mathrm{fd}}$')\n",
    "plt.title('Decyzja w zależności od wartości $M_{\\mathrm{bl}}$ oraz $M_{\\mathrm{fd}}$')\n",
    "plt.xlim(minMbl, maxMbl)\n",
    "plt.ylim(minMfd, maxMfd)\n",
    "\n",
    "plt.gca().set_aspect(\"auto\")\n",
    "\n",
    "# plt.gca().invert_yaxis()\n",
    "plt.show()"
   ],
   "metadata": {
    "collapsed": false,
    "ExecuteTime": {
     "end_time": "2024-06-02T09:55:51.199265Z",
     "start_time": "2024-06-02T09:55:50.891223Z"
    }
   },
   "id": "aa15e68ad0c0691b"
  },
  {
   "cell_type": "code",
   "execution_count": null,
   "outputs": [],
   "source": [],
   "metadata": {
    "collapsed": false
   },
   "id": "541f2972605939c1"
  }
 ],
 "metadata": {
  "kernelspec": {
   "display_name": "Python 3 (ipykernel)",
   "language": "python",
   "name": "python3"
  },
  "language_info": {
   "codemirror_mode": {
    "name": "ipython",
    "version": 3
   },
   "file_extension": ".py",
   "mimetype": "text/x-python",
   "name": "python",
   "nbconvert_exporter": "python",
   "pygments_lexer": "ipython3",
   "version": "3.12.2"
  }
 },
 "nbformat": 4,
 "nbformat_minor": 5
}
